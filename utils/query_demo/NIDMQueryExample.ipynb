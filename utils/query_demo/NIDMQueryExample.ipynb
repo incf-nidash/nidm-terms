{
 "cells": [
  {
   "cell_type": "code",
   "execution_count": 59,
   "id": "juvenile-conservation",
   "metadata": {},
   "outputs": [],
   "source": [
    "import ipywidgets as widgets\n",
    "import json\n",
    "import os\n",
    "from os import system\n",
    "from os.path import join,basename\n",
    "from IPython.display import display\n",
    "try:\n",
    "    import glob2\n",
    "except ImportError:\n",
    "    system('python -m pip install glob2')\n",
    "    import glob2\n",
    "import requests"
   ]
  },
  {
   "cell_type": "code",
   "execution_count": 85,
   "id": "thrown-stable",
   "metadata": {},
   "outputs": [],
   "source": [
    "# get isAbout URLs are used in this project along with \n",
    "# isAbout labels and \n",
    "query='PREFIX nidm: <http://purl.org/nidash/nidm#> \\\n",
    "       PREFIX rdfs: <http://www.w3.org/2000/01/rdf-schema#> \\\n",
    "       select distinct ?isabout_url ?isabout_label where { \\\n",
    "        ?s nidm:isAbout ?isabout_url . \\\n",
    "        ?isabout_url rdfs:label ?isabout_label .}'\n",
    "query_enc = requests.utils.quote(query)\n",
    "\n",
    "# Set URL for ReproLake GraphDB resource for OpenNeuro NIDM files\n",
    "url = \"http://nidm.scicrunch.io:7200/repositories/OpenNeuro?query=\" + query_enc\n",
    "payload='-H=Accept%3Aapplication%2Fsparql-results%2Bjson'\n",
    "headers = {\n",
    "  'Content-Type': 'application/x-www-form-urlencoded'\n",
    "}\n",
    "# send post request to graphDB server\n",
    "isabout_query_response = requests.request(\"POST\", url, headers=headers, data=payload)"
   ]
  },
  {
   "cell_type": "code",
   "execution_count": 89,
   "id": "secondary-cinema",
   "metadata": {},
   "outputs": [],
   "source": [
    "#loop through isAbout and set up dictionary for UI\n",
    "isAbout_term_labels={}\n",
    "for c in isabout_query_response.iter_lines():\n",
    "    # get query return for this row\n",
    "    isAbout_url = str(c.decode()).split(',')[0]\n",
    "    isAbout_label = str(c.decode()).split(',')[1]\n",
    "    # skip first row which has binding labels from sparql query\n",
    "    if isAbout_url == 'isabout_url':\n",
    "        continue\n",
    "    # if we haven't stored any source variables from this dataset\n",
    "    if (isAbout_url not in isAbout_term_labels.keys()):\n",
    "        # set top-level data key to datset number\n",
    "        isAbout_term_labels[str(isAbout_url)] = str(isAbout_label)\n",
    "        #print(\"%s = %s\" %(isAbout_url,isAbout_label))"
   ]
  },
  {
   "cell_type": "code",
   "execution_count": 92,
   "id": "monthly-lounge",
   "metadata": {},
   "outputs": [],
   "source": [
    "# get image types for all OpenNeuro NIDM files\n",
    "query = 'PREFIX nidm: <http://purl.org/nidash/nidm#> \\\n",
    "        PREFIX rdfs: <http://www.w3.org/2000/01/rdf-schema#> \\\n",
    "        PREFIX prov: <http://www.w3.org/ns/prov#> \\\n",
    "        PREFIX dct: <http://purl.org/dc/terms/> \\\n",
    "        select distinct ?imageUsageType ?imageContrastType ?task where { \\\n",
    "            ?image_act a nidm:AcquisitionObject ; \\\n",
    "            nidm:hadAcquisitionModality nidm:MagneticResonanceImaging ; \\\n",
    "            nidm:hadImageContrastType ?imageContrastType ; \\\n",
    "            nidm:hadImageUsageType ?imageUsageType . \\\n",
    "        optional{?image_act nidm:Task ?task .} . }'\n",
    "\n",
    "\n",
    "query_enc = requests.utils.quote(query)\n",
    "\n",
    "# Set URL for ReproLake GraphDB resource for OpenNeuro NIDM files\n",
    "url = \"http://nidm.scicrunch.io:7200/repositories/OpenNeuro?query=\" + query_enc\n",
    "payload='-H=Accept%3Aapplication%2Fsparql-results%2Bjson'\n",
    "headers = {\n",
    "  'Content-Type': 'application/x-www-form-urlencoded'\n",
    "}\n",
    "# send post request to graphDB server\n",
    "image_types_query_response = requests.request(\"POST\", url, headers=headers, data=payload)"
   ]
  },
  {
   "cell_type": "code",
   "execution_count": 100,
   "id": "pressing-april",
   "metadata": {},
   "outputs": [
    {
     "name": "stdout",
     "output_type": "stream",
     "text": [
      "['http://purl.org/nidash/nidm#Anatomical', 'http://purl.org/nidash/nidm#T2Weighted', 'http://purl.org/nidash/nidm#T1Weighted', 'http://purl.org/nidash/nidm#Functional', 'http://purl.org/nidash/nidm#FlowWeighted', 'http://purl.org/nidash/nidm#DiffusionTensor', 'http://purl.org/nidash/nidm#DiffusionWeighted']\n"
     ]
    }
   ],
   "source": [
    "#loop through image types and set up dictionary for UI\n",
    "image_types=[]\n",
    "for c in image_types_query_response.iter_lines():\n",
    "    # get query return for this row\n",
    "    image_usage_type = (str(c.decode()).split(',')[0])\n",
    "    image_contrast_type = (str(c.decode()).split(',')[1])\n",
    "    # not used for now...\n",
    "    # image_task = str(c.decode()).split(',')[2]\n",
    "    # skip first row which has binding labels from sparql query\n",
    "    if image_usage_type == 'imageUsageType':\n",
    "        continue\n",
    "    # if we haven't stored any source variables from this dataset\n",
    "    if (image_usage_type not in image_types):\n",
    "        image_types.append(image_usage_type)\n",
    "    if (image_contrast_type not in image_types):\n",
    "        image_types.append(image_contrast_type)\n",
    "\n",
    "print(\"%s\" %(image_types))"
   ]
  },
  {
   "cell_type": "code",
   "execution_count": 102,
   "id": "instant-desperate",
   "metadata": {},
   "outputs": [],
   "source": [
    "# temporary variables for query\n",
    "global currentQueryTerm, queryTerms\n",
    "currentQueryTerm =''\n",
    "queryTerms = []\n",
    "# handler for drop down\n",
    "def dropdown_eventhandler(change):\n",
    "    #if change['name'] == 'value' and (change['new'] != change['old']):\n",
    "    if change['name'] == 'value' and (change['new']):\n",
    "        # set currentQueryTerm to selection\n",
    "        #print(\"current query term changed %s\" %change['new'])\n",
    "        global currentQueryTerm\n",
    "        currentQueryTerm = change['new']\n",
    "        \n",
    "# handler for drop down\n",
    "def image_dropdown_eventhandler(change):\n",
    "    if change['name'] == 'value' and (change['new']):\n",
    "        # set currentImageQueryTerm to selection\n",
    "        #print(\"current query term changed %s\" %change['new'])\n",
    "        global currentImageQueryTerm\n",
    "        currentImageQueryTerm = change['new']\n",
    "           \n",
    "# add handlers for simple GUI\n",
    "def btn_addConceptToQuery(obj):\n",
    "    global currentQueryTerm\n",
    "    global queryTerms\n",
    "    if (currentQueryTerm not in queryTerms) and (currentQueryTerm != ''):\n",
    "        #add to query Terms\n",
    "        queryTerms.append(currentQueryTerm)\n",
    "        print(\"Query: %s \" %queryTerms)\n",
    "        \n",
    "# handlers for buttons\n",
    "def btn_reset(obj):\n",
    "    global queryTerms\n",
    "    queryTerms = []\n",
    "    print(\"query terms reset: %s\" %queryTerms)"
   ]
  },
  {
   "cell_type": "code",
   "execution_count": 106,
   "id": "eleven-prayer",
   "metadata": {},
   "outputs": [
    {
     "name": "stdout",
     "output_type": "stream",
     "text": [
      "Please select concepts from the dropdown to include in a query:\n"
     ]
    },
    {
     "data": {
      "application/vnd.jupyter.widget-view+json": {
       "model_id": "27efd675dfcb466fb4e3ec4be1f655e0",
       "version_major": 2,
       "version_minor": 0
      },
      "text/plain": [
       "Dropdown(options=('age', 'sex', 'gender', 'impulsivity', 'appetitive motivation', 'risk', 'risk seeking', 'Pos…"
      ]
     },
     "metadata": {},
     "output_type": "display_data"
    },
    {
     "data": {
      "application/vnd.jupyter.widget-view+json": {
       "model_id": "e4a1df69f43a4ac0aedad3b659f3f2e3",
       "version_major": 2,
       "version_minor": 0
      },
      "text/plain": [
       "Button(description='Add Concept', style=ButtonStyle())"
      ]
     },
     "metadata": {},
     "output_type": "display_data"
    },
    {
     "data": {
      "application/vnd.jupyter.widget-view+json": {
       "model_id": "2c090661d02f4095a7408e199518534f",
       "version_major": 2,
       "version_minor": 0
      },
      "text/plain": [
       "Dropdown(options=('http://purl.org/nidash/nidm#Anatomical', 'http://purl.org/nidash/nidm#T2Weighted', 'http://…"
      ]
     },
     "metadata": {},
     "output_type": "display_data"
    },
    {
     "data": {
      "application/vnd.jupyter.widget-view+json": {
       "model_id": "c6cc96fb2da64a6ea2e060d7d5d209e7",
       "version_major": 2,
       "version_minor": 0
      },
      "text/plain": [
       "Button(description='Add Image Type', style=ButtonStyle())"
      ]
     },
     "metadata": {},
     "output_type": "display_data"
    },
    {
     "data": {
      "application/vnd.jupyter.widget-view+json": {
       "model_id": "88eb1dada8b045129a55ec35c06eabdf",
       "version_major": 2,
       "version_minor": 0
      },
      "text/plain": [
       "Button(description='Reset query', style=ButtonStyle())"
      ]
     },
     "metadata": {},
     "output_type": "display_data"
    },
    {
     "name": "stdout",
     "output_type": "stream",
     "text": [
      "Query: ['sex'] \n"
     ]
    }
   ],
   "source": [
    "# bring up a new selector for adding a concept to the query\n",
    "queryTermSelector = widgets.Dropdown(options=list(isAbout_term_labels.values()))\n",
    "queryTermSelector.observe(dropdown_eventhandler)\n",
    "queryImageSelector = widgets.Dropdown(options=image_types)\n",
    "queryImageSelector.observe(image_dropdown_eventhandler)\n",
    "# create a little user interface to query using isAbout concepts\n",
    "addConceptToQuery = widgets.Button(description='Add Concept')\n",
    "addConceptToQuery.on_click(btn_addConceptToQuery)\n",
    "addImageToQuery = widgets.Button(description='Add Image Type')\n",
    "#doANDQuery = widgets.Button(description='Run AND query')\n",
    "#doANDQuery.on_click(ANDQuery)\n",
    "#doORQuery = widgets.Button(description='Run OR query')\n",
    "#doORQuery.on_click(ORQuery)\n",
    "resetQuery = widgets.Button(description='Reset query')\n",
    "resetQuery.on_click(btn_reset)\n",
    "print(\"Please select concepts from the dropdown to include in a query:\")\n",
    "display(queryTermSelector)\n",
    "display(addConceptToQuery)\n",
    "display(queryImageSelector)\n",
    "display(addImageToQuery)\n",
    "#display(doANDQuery)\n",
    "#display(doORQuery)\n",
    "display(resetQuery)"
   ]
  },
  {
   "cell_type": "code",
   "execution_count": null,
   "id": "limiting-settlement",
   "metadata": {},
   "outputs": [],
   "source": []
  }
 ],
 "metadata": {
  "kernelspec": {
   "display_name": "Python 3",
   "language": "python",
   "name": "python3"
  },
  "language_info": {
   "codemirror_mode": {
    "name": "ipython",
    "version": 3
   },
   "file_extension": ".py",
   "mimetype": "text/x-python",
   "name": "python",
   "nbconvert_exporter": "python",
   "pygments_lexer": "ipython3",
   "version": "3.8.8"
  }
 },
 "nbformat": 4,
 "nbformat_minor": 5
}
