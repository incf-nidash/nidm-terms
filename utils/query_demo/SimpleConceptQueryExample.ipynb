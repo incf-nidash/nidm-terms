{
 "cells": [
  {
   "cell_type": "markdown",
   "metadata": {},
   "source": [
    "# OpenNeuro Dataset Query by NIDM-Terms Example"
   ]
  },
  {
   "cell_type": "code",
   "execution_count": 2,
   "metadata": {},
   "outputs": [],
   "source": [
    "import ipywidgets as widgets\n",
    "import json\n",
    "import os\n",
    "from os import system\n",
    "from os.path import join,basename\n",
    "from IPython.display import display\n",
    "try:\n",
    "    from cognitiveatlas.api import get_concept, get_disorder\n",
    "except ImportError:\n",
    "    system('python -m pip install cognitiveatlas')\n",
    "    from cognitiveatlas.api import get_concept, get_disorder\n",
    "try:\n",
    "    import glob2\n",
    "except ImportError:\n",
    "    system('python -m pip install glob2')\n",
    "    import glob2\n",
    "import requests\n"
   ]
  },
  {
   "cell_type": "code",
   "execution_count": 3,
   "metadata": {},
   "outputs": [],
   "source": [
    "# set up uber jsonld dictionary\n",
    "data={}\n",
    "# for all jsonld documents in this repo, load them into a graph\n",
    "for dataset in glob2.glob(\"../../terms/OpenNeuro_Datasets_Terms/OpenNeuro_jsonld/**\"):\n",
    "    #print(basename(dataset))\n",
    "    # set top-level data key to datset number\n",
    "    data[basename(dataset)] = {}\n",
    "    # loop through all jsonld files and get isAbouts\n",
    "    for jsonldfile in glob2.glob(join(dataset,\"**\",\"*.jsonld\")):\n",
    "        #load jsonld file\n",
    "        #if basename(dataset) == '000001':\n",
    "        #print(\"Loading jsonld file: %s for dataset: %s\" %(jsonldfile,basename(dataset)))\n",
    "        with open(jsonldfile) as f:\n",
    "            # load jsonld document and set key for each variable to source_variable\n",
    "            tmp = json.load(f)\n",
    "            # since we have single jsonld files for all variables in dataset.  If there's\n",
    "            # only 1 variable in the dataset then it's a dictionary else it's a list of \n",
    "            # dictionaries\n",
    "            if type(tmp['terms']) is dict:\n",
    "                data[basename(dataset)][tmp['terms']['sourceVariable']] = tmp['terms'] \n",
    "                    \n",
    "            elif type(tmp['terms']) is list:\n",
    "                for var in tmp['terms']: \n",
    "                    #print(var)\n",
    "                    data[basename(dataset)][var['sourceVariable']] = var\n",
    "        #print(data)\n",
    "   "
   ]
  },
  {
   "cell_type": "code",
   "execution_count": 4,
   "metadata": {},
   "outputs": [],
   "source": [
    "# find all isAbout concepts in data dictionary\n",
    "isAbout_term_labels={}\n",
    "for key,val in data.items():\n",
    "    for subkey,subval in data[key].items():\n",
    "        for variable,jsonld_elements in data[key][subkey].items():\n",
    "            #print(\"variable=%s\" %variable)\n",
    "            #print(\"json_elements=%s\" %jsonld_elements)\n",
    "            if (variable == \"isAbout\"):\n",
    "                # isAbout concepts stored as dictionary if single item or \n",
    "                # list of dictionaries if multiple items\n",
    "                if isinstance(jsonld_elements,dict):\n",
    "                    #print(jsonld_elements)\n",
    "                    if (jsonld_elements['@id'] not in isAbout_term_labels.keys()) and (jsonld_elements['label'] != \"\"):\n",
    "                        isAbout_term_labels[jsonld_elements['@id']] = jsonld_elements['label']\n",
    "                        \n",
    "                # here we have multiple isAbouts\n",
    "                elif isinstance(jsonld_elements,list):\n",
    "                    for elements in jsonld_elements:\n",
    "                        #print(elements)\n",
    "                        if (elements['@id'] not in isAbout_term_labels.keys()) and (elements['label'] != \"\") :\n",
    "                            isAbout_term_labels[elements['@id']] = elements['label']\n",
    "                    \n",
    "                     "
   ]
  },
  {
   "cell_type": "code",
   "execution_count": 5,
   "metadata": {},
   "outputs": [],
   "source": [
    "\n",
    "# temporary variables for query\n",
    "global currentQueryTerm, queryTerms\n",
    "currentQueryTerm =''\n",
    "queryTerms = []\n",
    "# handler for drop down\n",
    "def dropdown_eventhandler(change):\n",
    "    #if change['name'] == 'value' and (change['new'] != change['old']):\n",
    "    if change['name'] == 'value' and (change['new']):\n",
    "        # set currentQueryTerm to selection\n",
    "        #print(\"current query term changed %s\" %change['new'])\n",
    "        global currentQueryTerm\n",
    "        currentQueryTerm = change['new']\n",
    "        \n",
    "            \n",
    "# add handlers for simple GUI\n",
    "def btn_addConceptToQuery(obj):\n",
    "    global currentQueryTerm\n",
    "    global queryTerms\n",
    "    if (currentQueryTerm not in queryTerms) and (currentQueryTerm != ''):\n",
    "        #add to query Terms\n",
    "        queryTerms.append(currentQueryTerm)\n",
    "        print(\"Query: %s \" %queryTerms)\n",
    "        \n",
    "# handlers for buttons\n",
    "def btn_reset(obj):\n",
    "    global queryTerms\n",
    "    queryTerms = []\n",
    "    print(\"query terms reset: %s\" %queryTerms)\n",
    "def ANDQuery(obj):\n",
    "    # this function performs an AND query vs. an OR query on concepts\n",
    "    # to do an AND query we look through all the matching_datasets for each of the concepts and select datasets\n",
    "    # that satisfy all of them\n",
    "    \n",
    "    matching_datasets = doQuery()\n",
    "    \n",
    "    and_query_result = []\n",
    "    # get number of concepts in the current query\n",
    "    num_concepts = len(matching_datasets.keys())\n",
    "    # number of matches for each dataset.  If this number equals num_concepts then it satisfies the AND \n",
    "    # criteria\n",
    "    num_matches={}\n",
    "    for concept,datasets in matching_datasets.items():\n",
    "        for dataset in datasets:\n",
    "            # does this dataset appear across all matching_datasets[term]?\n",
    "            # is so add it to the num_matches dictionary with the dataset identifier as the key\n",
    "            if dataset in num_matches.keys():\n",
    "                # increment counter\n",
    "                num_matches[dataset] = num_matches[dataset] + 1\n",
    "            else:\n",
    "                num_matches[dataset] = 1\n",
    "    \n",
    "    # now store and_query_result\n",
    "    for dataset,matches in num_matches.items():\n",
    "        if matches == num_concepts:\n",
    "            and_query_result.append(dataset)\n",
    "    \n",
    "\n",
    "    if len(and_query_result) == 0:\n",
    "        print(\"AND Matching datasets: None\")\n",
    "    else:\n",
    "        print(\"AND Matching datasets: \")\n",
    "        for match in and_query_result:\n",
    "              print(match)\n",
    "\n",
    "def ORQuery(obj):       \n",
    "    # an OR query here is basically returning any datasets that are in the resulting structure\n",
    "    \n",
    "    matching_datasets = doQuery()\n",
    "    or_query_result=[]\n",
    "    for concept,datasets in matching_datasets.items():\n",
    "        for items in datasets:\n",
    "            or_query_result.append(items)\n",
    "\n",
    "    if len(or_query_result) == 0:\n",
    "        print(\"OR Matching datasets: None\")\n",
    "    else:\n",
    "        print(\"OR Matching datasets:\")\n",
    "        for match in or_query_result:\n",
    "            print(match)\n",
    "            \n",
    "def doQuery():\n",
    "    global queryTerms\n",
    "    matching_datasets={}\n",
    "    print(\"Running query on datasets for terms: %s\" %queryTerms)\n",
    "    for term in queryTerms:\n",
    "        # run query by looking for url matching queryTerms in isAbout_terms_labels\n",
    "        # which has mapping between isAbout URL and it's label\n",
    "        for isabout_key, isabout_value in isAbout_term_labels.items():\n",
    "            #print(\"isabout_value=%s\" %isabout_value)\n",
    "            # check if isAbout_terms_labels value is the term we're looking for\n",
    "            if isabout_value == term:\n",
    "                #print(\"found match\")\n",
    "                matching_datasets[term] = []\n",
    "                # sometimes we have more than 1 isAbout URL so loop through them looking\n",
    "                # for a match wtih our query term URL\n",
    "                for dataset,dataset_variables in data.items():\n",
    "                    for source_variables,dataset_annotations in dataset_variables.items():\n",
    "                        #print(dataset_annotations)\n",
    "                        for key,value in dataset_annotations.items():\n",
    "                            #print(\"looking for isAbout match %s\" %(str(isabout_key)))\n",
    "                            #print(\"value: %s\" %str(value))\n",
    "                            if (str(key)=='isAbout') and (str(isabout_key) in str(value)):\n",
    "                                #print(\"found match\")\n",
    "                                # if dataset isn't already in the matching_datasets list then append\n",
    "                                dataset_url = \"https://openneuro.org/datasets/ds\" + dataset\n",
    "                                if dataset_url not in matching_datasets[term]:\n",
    "                                    matching_datasets[term].append(\"https://openneuro.org/datasets/ds\" + dataset)\n",
    "                           \n",
    "    return matching_datasets\n",
    "            \n",
    "        \n",
    "    \n",
    "    "
   ]
  },
  {
   "cell_type": "code",
   "execution_count": 6,
   "metadata": {},
   "outputs": [],
   "source": [
    "import json\n",
    "with open (\"openneuro_context_annotations.json\",\"w\") as outfile:\n",
    "    json.dump(isAbout_term_labels,outfile, indent=2)"
   ]
  },
  {
   "cell_type": "code",
   "execution_count": 7,
   "metadata": {},
   "outputs": [
    {
     "name": "stdout",
     "output_type": "stream",
     "text": [
      "Please select concepts from the dropdown to include in a query:\n"
     ]
    },
    {
     "data": {
      "application/vnd.jupyter.widget-view+json": {
       "model_id": "33beb872a8744b89b1568526d4e232b1",
       "version_major": 2,
       "version_minor": 0
      },
      "text/plain": [
       "Dropdown(options=('age', 'sex', 'participant group', 'handedness assessment', 'gender', 'patients birth date',…"
      ]
     },
     "metadata": {},
     "output_type": "display_data"
    },
    {
     "data": {
      "application/vnd.jupyter.widget-view+json": {
       "model_id": "f92e17471b8f4b3dae1d437a239d5a4c",
       "version_major": 2,
       "version_minor": 0
      },
      "text/plain": [
       "Button(description='Add Query Concept', style=ButtonStyle())"
      ]
     },
     "metadata": {},
     "output_type": "display_data"
    },
    {
     "data": {
      "application/vnd.jupyter.widget-view+json": {
       "model_id": "d70417d797944abea19ea7a37d4f89d0",
       "version_major": 2,
       "version_minor": 0
      },
      "text/plain": [
       "Button(description='Run AND query', style=ButtonStyle())"
      ]
     },
     "metadata": {},
     "output_type": "display_data"
    },
    {
     "data": {
      "application/vnd.jupyter.widget-view+json": {
       "model_id": "0a6e4b50b27146798254f64380209f1b",
       "version_major": 2,
       "version_minor": 0
      },
      "text/plain": [
       "Button(description='Run OR query', style=ButtonStyle())"
      ]
     },
     "metadata": {},
     "output_type": "display_data"
    },
    {
     "data": {
      "application/vnd.jupyter.widget-view+json": {
       "model_id": "ea7b9f350e1a4052b70e34d67de92cec",
       "version_major": 2,
       "version_minor": 0
      },
      "text/plain": [
       "Button(description='Reset query', style=ButtonStyle())"
      ]
     },
     "metadata": {},
     "output_type": "display_data"
    }
   ],
   "source": [
    "# bring up a new selector for adding a concept to the query\n",
    "queryTermSelector = widgets.Dropdown(options=list(isAbout_term_labels.values()))\n",
    "queryTermSelector.observe(dropdown_eventhandler)\n",
    "# create a little user interface to query using isAbout concepts\n",
    "addConceptToQuery = widgets.Button(description='Add Query Concept')\n",
    "addConceptToQuery.on_click(btn_addConceptToQuery)\n",
    "doANDQuery = widgets.Button(description='Run AND query')\n",
    "doANDQuery.on_click(ANDQuery)\n",
    "doORQuery = widgets.Button(description='Run OR query')\n",
    "doORQuery.on_click(ORQuery)\n",
    "resetQuery = widgets.Button(description='Reset query')\n",
    "resetQuery.on_click(btn_reset)\n",
    "print(\"Please select concepts from the dropdown to include in a query:\")\n",
    "display(queryTermSelector)\n",
    "display(addConceptToQuery)\n",
    "display(doANDQuery)\n",
    "display(doORQuery)\n",
    "display(resetQuery)"
   ]
  },
  {
   "cell_type": "code",
   "execution_count": null,
   "metadata": {},
   "outputs": [],
   "source": []
  }
 ],
 "metadata": {
  "kernelspec": {
   "display_name": "Python 3",
   "language": "python",
   "name": "python3"
  },
  "language_info": {
   "codemirror_mode": {
    "name": "ipython",
    "version": 3
   },
   "file_extension": ".py",
   "mimetype": "text/x-python",
   "name": "python",
   "nbconvert_exporter": "python",
   "pygments_lexer": "ipython3",
   "version": "3.8.8"
  }
 },
 "nbformat": 4,
 "nbformat_minor": 4
}
